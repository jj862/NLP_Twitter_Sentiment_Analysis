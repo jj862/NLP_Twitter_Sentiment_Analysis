{
 "cells": [
  {
   "cell_type": "markdown",
   "id": "d3535c25",
   "metadata": {},
   "source": [
    "# NLP: Twitter Sentiment Analysis\n",
    "In this hands-on project, we will train a Naive Bayes classifier to predict sentiment from thousands of Twitter tweets. This project could be practically used by any company with social media presence to automatically predict customer's sentiment (i.e.: whether their customers are happy or not). The process could be done automatically without having humans manually review thousands of tweets and customer reviews."
   ]
  },
  {
   "cell_type": "markdown",
   "id": "0b651719",
   "metadata": {},
   "source": [
    "### OBJECTIVES\n",
    "\n",
    "* Perform exploratory data analysis and plot word-cloud\n",
    "* Apply python libraries to import and visualize dataset\n",
    "* Evaluate the performance of trained Naïve Bayes Classifier model using confusion matrices.\n",
    "* Train Naïve Bayes classifier models using Scikit-Learn to preform classification\n",
    "* Understand the difference between prior probability, posterior probability and likelihood.\n",
    "* Understand the theory and intuition behind Naïve Bayes classifiers\n",
    "* Perform tokenization to tweet text using Scikit Learn\n",
    "* Understand the concept of count vectorization (tokenization)\n",
    "* Perform text data cleaning such as removing punctuation and stop words"
   ]
  },
  {
   "cell_type": "markdown",
   "id": "c7860840",
   "metadata": {},
   "source": [
    "Project Structure\n",
    "\n",
    "The hands on project on Twitter Sentiment Analysis is divided into following tasks:\n",
    "\n",
    "Task #1: Understand the Problem Statement and business case \n",
    "\n",
    "Task #2: Import libraries and datasets\n",
    "\n",
    "Task #3: Perform Exploratory Data Analysis\n",
    "\n",
    "Task #4: Plot the word cloud\n",
    "\n",
    "Task #5: Perform data cleaning - removing punctuation\n",
    "\n",
    "Task #6: Perform data cleaning - remove stop words\n",
    "\n",
    "Task #7: Perform Count Vectorization (Tokenization)\n",
    "\n",
    "Task #8: Create a pipeline to remove stop-words, punctuation, and perform tokenization\n",
    "\n",
    "Task #9: Understand the theory and intuition behind Naive Bayes classifiers\n",
    "\n",
    "Task #10: Train a Naive Bayes Classifier\n",
    "\n",
    "Task #11: Assess trained model performance\n",
    "\n"
   ]
  },
  {
   "cell_type": "code",
   "execution_count": null,
   "id": "4e24f75c",
   "metadata": {},
   "outputs": [],
   "source": []
  }
 ],
 "metadata": {
  "kernelspec": {
   "display_name": "Python 3 (ipykernel)",
   "language": "python",
   "name": "python3"
  },
  "language_info": {
   "codemirror_mode": {
    "name": "ipython",
    "version": 3
   },
   "file_extension": ".py",
   "mimetype": "text/x-python",
   "name": "python",
   "nbconvert_exporter": "python",
   "pygments_lexer": "ipython3",
   "version": "3.10.9"
  }
 },
 "nbformat": 4,
 "nbformat_minor": 5
}
